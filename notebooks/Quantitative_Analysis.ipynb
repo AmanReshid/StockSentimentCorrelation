{
 "cells": [
  {
   "cell_type": "code",
   "execution_count": null,
   "metadata": {},
   "outputs": [],
   "source": [
    "!pip install statsmodels\n"
   ]
  },
  {
   "cell_type": "code",
   "execution_count": null,
   "metadata": {},
   "outputs": [],
   "source": [
    "\n",
    "\n",
    "import pandas as pd\n",
    "import numpy as np\n",
    "import matplotlib.pyplot as plt\n",
    "from statsmodels.tsa.seasonal import seasonal_decompose\n",
    "\n",
    "# Simulating data\n",
    "np.random.seed(0)\n",
    "dates = pd.date_range(start=\"2023-01-01\", end=\"2023-02-01\", freq='D')\n",
    "headline_counts = np.random.poisson(lam=5, size=len(dates))  # Simulate headline counts\n",
    "\n",
    "# Creating a DataFrame\n",
    "simulated_data = pd.DataFrame({'Date': dates, 'Headlines_Count': headline_counts})\n",
    "\n",
    "# Set 'Date' as index\n",
    "simulated_data.set_index('Date', inplace=True)\n",
    "\n",
    "# Perform seasonal decomposition\n",
    "decomposition = seasonal_decompose(simulated_data['Headlines_Count'], model='additive', period=7)\n",
    "\n",
    "# Plotting the components\n",
    "plt.figure(figsize=(14, 10))\n",
    "\n",
    "plt.subplot(411)\n",
    "plt.plot(simulated_data['Headlines_Count'], label='Original', color='blue')\n",
    "plt.legend(loc='upper left')\n",
    "\n",
    "plt.subplot(412)\n",
    "plt.plot(decomposition.trend, label='Trend', color='orange')\n",
    "plt.legend(loc='upper left')\n",
    "\n",
    "plt.subplot(413)\n",
    "plt.plot(decomposition.seasonal, label='Seasonal', color='green')\n",
    "plt.legend(loc='upper left')\n",
    "\n",
    "plt.subplot(414)\n",
    "plt.plot(decomposition.resid, label='Residual/Irregular', color='red')\n",
    "plt.legend(loc='upper left')\n",
    "\n",
    "plt.tight_layout()\n",
    "plt.show()\n"
   ]
  }
 ],
 "metadata": {
  "language_info": {
   "name": "python"
  }
 },
 "nbformat": 4,
 "nbformat_minor": 2
}
