{
 "cells": [
  {
   "cell_type": "code",
   "execution_count": null,
   "metadata": {},
   "outputs": [],
   "source": [
    "import pandas as pd\n",
    "import numpy as np\n",
    "import matplotlib.pyplot as plt\n",
    "import talib as ta\n",
    "from pynance import info as pn"
   ]
  },
  {
   "cell_type": "code",
   "execution_count": null,
   "metadata": {},
   "outputs": [],
   "source": [
    "# Load and prepare the data\n",
    "def load_stock_data(file_path):\n",
    "    data = pd.read_csv(file_path)\n",
    "    data['Date'] = pd.to_datetime(data['Date'])\n",
    "    data.set_index('Date', inplace=True)\n",
    "    return data\n",
    "\n",
    "# Load data for different stocks\n",
    "file_paths = {\n",
    "    'AAPL': '../data/AAPL_historical_data.csv',\n",
    "    'AMZN': '../data/AMZN_historical_data.csv',\n",
    "    'META': '../data/META_historical_data.csv',\n",
    "    'GOOG': '../data/GOOG_historical_data.csv',\n",
    "    'MSFT': '../data/MSFT_historical_data.csv',\n",
    "    'NVDA': '../data/NVDA_historical_data.csv',\n",
    "    'TSLA': '../data/TSLA_historical_data.csv',\n",
    "}\n",
    "\n",
    "\n",
    "# Store loaded data\n",
    "stock_data = {}\n",
    "for stock_name, file_path in file_paths.items():\n",
    "    stock_data[stock_name] = load_stock_data(file_path)"
   ]
  },
  {
   "cell_type": "code",
   "execution_count": null,
   "metadata": {},
   "outputs": [],
   "source": [
    "# Function to apply TA-Lib indicators to the data\n",
    "def apply_ta_indicators(data):\n",
    "    # Calculate simple moving averages (50-day and 200-day)\n",
    "    data['SMA_50'] = ta.SMA(data['Close'], timeperiod=50)\n",
    "    data['SMA_200'] = ta.SMA(data['Close'], timeperiod=200)\n",
    "    \n",
    "    # Calculate RSI (14-day)\n",
    "    data['RSI'] = ta.RSI(data['Close'], timeperiod=14)\n",
    "    \n",
    "    # Calculate MACD (12, 26, 9)\n",
    "    data['MACD'], data['MACD_signal'], _ = ta.MACD(data['Close'], fastperiod=12, slowperiod=26, signalperiod=9)\n",
    "    \n",
    "    return data\n",
    "\n",
    "# Apply indicators to each stock dataset\n",
    "for stock_name, data in stock_data.items():\n",
    "    stock_data[stock_name] = apply_ta_indicators(data)\n",
    "\n",
    "# Function to visualize stock data with indicators\n",
    "def visualize_stock_data(stock_name, data):\n",
    "    fig, (ax1, ax2, ax3) = plt.subplots(3, 1, figsize=(14, 12), gridspec_kw={'height_ratios': [3, 1, 1]})\n",
    "    \n",
    "    # Plot close prices and moving averages\n",
    "    ax1.plot(data.index, data['Close'], label='Close Price', color='blue')\n",
    "    ax1.plot(data.index, data['SMA_50'], label='50-day SMA', color='orange')\n",
    "    ax1.plot(data.index, data['SMA_200'], label='200-day SMA', color='red')\n",
    "    ax1.set_title(f'{stock_name} - Close Price & Moving Averages')\n",
    "    ax1.legend()\n",
    "    \n",
    "    # Plot RSI\n",
    "    ax2.plot(data.index, data['RSI'], label='RSI', color='green')\n",
    "    ax2.axhline(70, color='red', linestyle='--')\n",
    "    ax2.axhline(30, color='red', linestyle='--')\n",
    "    ax2.set_title(f'{stock_name} - RSI')\n",
    "    \n",
    "    # Plot MACD and signal line\n",
    "    ax3.plot(data.index, data['MACD'], label='MACD', color='purple')\n",
    "    ax3.plot(data.index, data['MACD_signal'], label='Signal Line', color='orange')\n",
    "    ax3.set_title(f'{stock_name} - MACD')\n",
    "    ax3.legend()\n",
    "    \n",
    "    plt.tight_layout()\n",
    "    plt.show()\n",
    "\n",
    "# Visualize the data for each stock\n",
    "for stock_name, data in stock_data.items():\n",
    "    visualize_stock_data(stock_name, data)\n",
    "\n",
    "# Function to calculate financial metrics using PyNance\n",
    "def calculate_financial_metrics(stock_name):\n",
    "    metrics = pn.key_stats(stock_name)\n",
    "    return metrics"
   ]
  },
  {
   "cell_type": "code",
   "execution_count": null,
   "metadata": {},
   "outputs": [],
   "source": [
    "#Calculate and display financial metrics for AAPL\n",
    "aapl_metrics = calculate_financial_metrics('AAPL')\n",
    "print(\"AAPL Financial Metrics:\")\n",
    "print(aapl_metrics)"
   ]
  },
  {
   "cell_type": "code",
   "execution_count": null,
   "metadata": {},
   "outputs": [],
   "source": [
    "# Calculate and display financial metrics for all stocks\n",
    "for stock_name in stock_data.keys():\n",
    "    print(f\"{stock_name} Financial Metrics:\")\n",
    "    stock_metrics = calculate_financial_metrics(stock_name)\n",
    "    print(stock_metrics)\n",
    "    print(\"\\n\" + \"=\"*50 + \"\\n\")"
   ]
  }
 ],
 "metadata": {
  "language_info": {
   "name": "python"
  }
 },
 "nbformat": 4,
 "nbformat_minor": 2
}
